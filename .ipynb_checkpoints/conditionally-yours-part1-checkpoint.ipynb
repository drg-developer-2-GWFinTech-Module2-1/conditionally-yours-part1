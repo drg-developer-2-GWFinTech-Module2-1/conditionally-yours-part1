{
 "cells": [
  {
   "cell_type": "code",
   "execution_count": 2,
   "metadata": {},
   "outputs": [
    {
     "name": "stdout",
     "output_type": "stream",
     "text": [
      "Executing trade!\n"
     ]
    }
   ],
   "source": [
    "# Define constants\n",
    "tradingThresholdFraction=0.20\n",
    "\n",
    "# Pseudocode percent_increase calculation\n",
    "P1=300\n",
    "P2=380\n",
    "priceIncrease=P2-P1\n",
    "percentIncrease = priceIncrease / P1\n",
    "\n",
    "# Pseudocode if-else logic to determine the buy or sell recommendation.\n",
    "if percentIncrease >= tradingThresholdFraction:\n",
    "    print(\"Executing trade!\")\n",
    "else:\n",
    "    print(\"Not executing trade.\")\n",
    "\n",
    "\n",
    "\n",
    "\n",
    "\n",
    "\n"
   ]
  },
  {
   "cell_type": "code",
   "execution_count": null,
   "metadata": {},
   "outputs": [],
   "source": []
  }
 ],
 "metadata": {
  "kernelspec": {
   "display_name": "Python 3",
   "language": "python",
   "name": "python3"
  },
  "language_info": {
   "codemirror_mode": {
    "name": "ipython",
    "version": 3
   },
   "file_extension": ".py",
   "mimetype": "text/x-python",
   "name": "python",
   "nbconvert_exporter": "python",
   "pygments_lexer": "ipython3",
   "version": "3.7.7"
  }
 },
 "nbformat": 4,
 "nbformat_minor": 4
}
